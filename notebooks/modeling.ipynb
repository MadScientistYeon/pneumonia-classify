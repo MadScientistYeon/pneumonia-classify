{
 "cells": [
  {
   "cell_type": "markdown",
   "id": "6f009528",
   "metadata": {},
   "source": [
    "# Modeling"
   ]
  },
  {
   "cell_type": "markdown",
   "id": "009d8f6a",
   "metadata": {},
   "source": [
    "## Import Packages"
   ]
  },
  {
   "cell_type": "code",
   "execution_count": 1,
   "id": "bdec699a",
   "metadata": {},
   "outputs": [],
   "source": [
    "import pickle\n",
    "from tensorflow.keras.models import Sequential\n",
    "from tensorflow.keras.layers import Conv2D, MaxPool2D, Flatten, Dense, Dropout\n",
    "from tensorflow.keras import regularizers\n",
    "from tensorflow.keras.optimizers import Adam\n",
    "from tensorflow.keras.callbacks import ModelCheckpoint, EarlyStopping"
   ]
  },
  {
   "cell_type": "markdown",
   "id": "90c42f8a",
   "metadata": {},
   "source": [
    "## Load data"
   ]
  },
  {
   "cell_type": "code",
   "execution_count": 2,
   "id": "e109a6a1",
   "metadata": {},
   "outputs": [],
   "source": [
    "# Load train data\n",
    "with open('../data/final/train.pickle', 'rb') as train:\n",
    "    train_data = pickle.load(train)\n",
    "    \n",
    "# Load test data\n",
    "with open('../data/final/test.pickle', 'rb') as test:\n",
    "    test_data = pickle.load(test)\n",
    "    \n",
    "# Load val data\n",
    "with open('../data/final/val.pickle', 'rb') as val:\n",
    "    val_data = pickle.load(val)"
   ]
  },
  {
   "cell_type": "code",
   "execution_count": 3,
   "id": "4b2780dc",
   "metadata": {},
   "outputs": [],
   "source": [
    "X_train, y_train = train_data\n",
    "X_test, y_test = test_data\n",
    "X_val, y_val = val_data"
   ]
  },
  {
   "cell_type": "markdown",
   "id": "ed967e48",
   "metadata": {},
   "source": [
    "## Modeling - Baseline"
   ]
  },
  {
   "cell_type": "markdown",
   "id": "3327ce20",
   "metadata": {},
   "source": [
    "### Create Model"
   ]
  },
  {
   "cell_type": "code",
   "execution_count": 4,
   "id": "4b3d0de8",
   "metadata": {},
   "outputs": [
    {
     "name": "stdout",
     "output_type": "stream",
     "text": [
      "Metal device set to: Apple M1\n",
      "Model: \"sequential\"\n",
      "_________________________________________________________________\n",
      " Layer (type)                Output Shape              Param #   \n",
      "=================================================================\n",
      " flatten (Flatten)           (None, 67500)             0         \n",
      "                                                                 \n",
      " dense (Dense)               (None, 128)               8640128   \n",
      "                                                                 \n",
      " dense_1 (Dense)             (None, 32)                4128      \n",
      "                                                                 \n",
      " dense_2 (Dense)             (None, 1)                 33        \n",
      "                                                                 \n",
      "=================================================================\n",
      "Total params: 8,644,289\n",
      "Trainable params: 8,644,289\n",
      "Non-trainable params: 0\n",
      "_________________________________________________________________\n"
     ]
    },
    {
     "name": "stderr",
     "output_type": "stream",
     "text": [
      "2022-05-13 16:20:38.100821: I tensorflow/core/common_runtime/pluggable_device/pluggable_device_factory.cc:305] Could not identify NUMA node of platform GPU ID 0, defaulting to 0. Your kernel may not have been built with NUMA support.\n",
      "2022-05-13 16:20:38.101061: I tensorflow/core/common_runtime/pluggable_device/pluggable_device_factory.cc:271] Created TensorFlow device (/job:localhost/replica:0/task:0/device:GPU:0 with 0 MB memory) -> physical PluggableDevice (device: 0, name: METAL, pci bus id: <undefined>)\n"
     ]
    }
   ],
   "source": [
    "baseline = Sequential([\n",
    "    # Flatten\n",
    "    Flatten(input_shape=(150, 150, 3)),\n",
    "    # 128 Neuron (Hidden layer)\n",
    "    Dense(128, activation='relu'),\n",
    "    # 32,Neuron (Hidden layer)\n",
    "    Dense(32, activation='relu'),\n",
    "    # 1 Output neuron\n",
    "    Dense(1, activation='sigmoid')\n",
    "])\n",
    "\n",
    "baseline.summary()"
   ]
  },
  {
   "cell_type": "code",
   "execution_count": 5,
   "id": "83f3c531",
   "metadata": {},
   "outputs": [],
   "source": [
    "baseline.compile(loss='binary_crossentropy',\n",
    "                 optimizer=Adam(learning_rate=0.001),\n",
    "                 metrics=['accuracy'])"
   ]
  },
  {
   "cell_type": "markdown",
   "id": "a7206922",
   "metadata": {},
   "source": [
    "### Model Training"
   ]
  },
  {
   "cell_type": "code",
   "execution_count": 6,
   "id": "e520e71c",
   "metadata": {
    "scrolled": true
   },
   "outputs": [
    {
     "name": "stdout",
     "output_type": "stream",
     "text": [
      "Epoch 1/10\n"
     ]
    },
    {
     "name": "stderr",
     "output_type": "stream",
     "text": [
      "2022-05-13 16:20:38.932839: W tensorflow/core/platform/profile_utils/cpu_utils.cc:128] Failed to get CPU frequency: 0 Hz\n",
      "2022-05-13 16:20:39.135142: I tensorflow/core/grappler/optimizers/custom_graph_optimizer_registry.cc:113] Plugin optimizer for device_type GPU is enabled.\n"
     ]
    },
    {
     "name": "stdout",
     "output_type": "stream",
     "text": [
      "38/38 [==============================] - 4s 73ms/step - loss: 2.0563 - accuracy: 0.7295 - val_loss: 0.5387 - val_accuracy: 0.8125\n",
      "Epoch 2/10\n",
      " 1/38 [..............................] - ETA: 2s - loss: 0.2950 - accuracy: 0.9219"
     ]
    },
    {
     "name": "stderr",
     "output_type": "stream",
     "text": [
      "2022-05-13 16:20:42.758125: I tensorflow/core/grappler/optimizers/custom_graph_optimizer_registry.cc:113] Plugin optimizer for device_type GPU is enabled.\n"
     ]
    },
    {
     "name": "stdout",
     "output_type": "stream",
     "text": [
      "38/38 [==============================] - 3s 66ms/step - loss: 0.2682 - accuracy: 0.9185 - val_loss: 0.4018 - val_accuracy: 0.8750\n",
      "Epoch 3/10\n",
      "38/38 [==============================] - 3s 66ms/step - loss: 0.1298 - accuracy: 0.9537 - val_loss: 0.2370 - val_accuracy: 0.9375\n",
      "Epoch 4/10\n",
      "38/38 [==============================] - 2s 66ms/step - loss: 0.4896 - accuracy: 0.8722 - val_loss: 3.7614 - val_accuracy: 0.5625\n",
      "Epoch 5/10\n",
      "38/38 [==============================] - 2s 65ms/step - loss: 0.5021 - accuracy: 0.8908 - val_loss: 1.2307 - val_accuracy: 0.7500\n",
      "Epoch 6/10\n",
      "38/38 [==============================] - 2s 65ms/step - loss: 0.2237 - accuracy: 0.9338 - val_loss: 0.1424 - val_accuracy: 0.9375\n",
      "Epoch 7/10\n",
      "38/38 [==============================] - 2s 65ms/step - loss: 0.1424 - accuracy: 0.9520 - val_loss: 0.2183 - val_accuracy: 0.9375\n",
      "Epoch 8/10\n",
      "38/38 [==============================] - 2s 66ms/step - loss: 0.1271 - accuracy: 0.9582 - val_loss: 0.2020 - val_accuracy: 0.8750\n",
      "Epoch 9/10\n",
      "38/38 [==============================] - 2s 65ms/step - loss: 0.1729 - accuracy: 0.9421 - val_loss: 1.8561 - val_accuracy: 0.5000\n",
      "Epoch 10/10\n",
      "38/38 [==============================] - 2s 65ms/step - loss: 0.3345 - accuracy: 0.9057 - val_loss: 0.2103 - val_accuracy: 0.8750\n"
     ]
    }
   ],
   "source": [
    "history = baseline.fit(X_train,\n",
    "                       y_train,\n",
    "                       batch_size=64,\n",
    "                       epochs=10,\n",
    "                       verbose=1,\n",
    "                       validation_data=(X_val, y_val))"
   ]
  },
  {
   "cell_type": "markdown",
   "id": "c309d75e",
   "metadata": {},
   "source": [
    "### Test Accuray"
   ]
  },
  {
   "cell_type": "code",
   "execution_count": 7,
   "id": "5b748956",
   "metadata": {
    "scrolled": true
   },
   "outputs": [
    {
     "name": "stdout",
     "output_type": "stream",
     "text": [
      "20/20 [==============================] - 1s 47ms/step - loss: 0.5693 - accuracy: 0.8269\n"
     ]
    },
    {
     "data": {
      "text/plain": [
       "[0.5693485736846924, 0.8269230723381042]"
      ]
     },
     "execution_count": 7,
     "metadata": {},
     "output_type": "execute_result"
    }
   ],
   "source": [
    "baseline.evaluate(X_test, y_test)"
   ]
  },
  {
   "cell_type": "markdown",
   "id": "5c7b266b",
   "metadata": {},
   "source": [
    "# Modeling - Tuning"
   ]
  },
  {
   "cell_type": "markdown",
   "id": "5a822e39",
   "metadata": {},
   "source": [
    "### Create Tuned Model"
   ]
  },
  {
   "cell_type": "code",
   "execution_count": 58,
   "id": "7d46b98f",
   "metadata": {},
   "outputs": [
    {
     "name": "stdout",
     "output_type": "stream",
     "text": [
      "Model: \"sequential_12\"\n",
      "_________________________________________________________________\n",
      " Layer (type)                Output Shape              Param #   \n",
      "=================================================================\n",
      " conv2d_37 (Conv2D)          (None, 148, 148, 64)      1792      \n",
      "                                                                 \n",
      " max_pooling2d_37 (MaxPoolin  (None, 74, 74, 64)       0         \n",
      " g2D)                                                            \n",
      "                                                                 \n",
      " conv2d_38 (Conv2D)          (None, 72, 72, 128)       73856     \n",
      "                                                                 \n",
      " max_pooling2d_38 (MaxPoolin  (None, 36, 36, 128)      0         \n",
      " g2D)                                                            \n",
      "                                                                 \n",
      " conv2d_39 (Conv2D)          (None, 34, 34, 128)       147584    \n",
      "                                                                 \n",
      " max_pooling2d_39 (MaxPoolin  (None, 17, 17, 128)      0         \n",
      " g2D)                                                            \n",
      "                                                                 \n",
      " flatten_12 (Flatten)        (None, 36992)             0         \n",
      "                                                                 \n",
      " dense_31 (Dense)            (None, 128)               4735104   \n",
      "                                                                 \n",
      " dense_32 (Dense)            (None, 1)                 129       \n",
      "                                                                 \n",
      "=================================================================\n",
      "Total params: 4,958,465\n",
      "Trainable params: 4,958,465\n",
      "Non-trainable params: 0\n",
      "_________________________________________________________________\n"
     ]
    }
   ],
   "source": [
    "model = Sequential([\n",
    "    # The first convolution\n",
    "    Conv2D(64, (3, 3), activation='relu', input_shape=(150, 150, 3)),\n",
    "    MaxPool2D(2, 2),\n",
    "    # The second convolution\n",
    "    Conv2D(128, (3, 3), activation='relu'),\n",
    "    MaxPool2D(2, 2),\n",
    "     # The Third convolution\n",
    "    Conv2D(128, (3, 3), activation='relu'),\n",
    "    MaxPool2D(2, 2),\n",
    "    # Flatten\n",
    "    Flatten(),\n",
    "    # 8 Neuron (Hidden layer)\n",
    "    Dense(128, activation='relu', kernel_regularizer=regularizers.L2(0.005)),\n",
    "    # 1 Output neuron\n",
    "    Dense(1, activation='sigmoid')\n",
    "])\n",
    "\n",
    "model.summary()"
   ]
  },
  {
   "cell_type": "code",
   "execution_count": 59,
   "id": "fbd8e7cc",
   "metadata": {},
   "outputs": [],
   "source": [
    "model.compile(loss='binary_crossentropy',\n",
    "              optimizer=Adam(learning_rate=0.00001),\n",
    "              metrics=['accuracy'])"
   ]
  },
  {
   "cell_type": "markdown",
   "id": "bc821d09",
   "metadata": {},
   "source": [
    "### Train Tuned Model"
   ]
  },
  {
   "cell_type": "code",
   "execution_count": 60,
   "id": "1fb574dd",
   "metadata": {},
   "outputs": [],
   "source": [
    "es = EarlyStopping(patience=5)\n",
    "mc = ModelCheckpoint('../models/checkpoint/tuned.h5', save_best_only=True, monitor='val_loss')"
   ]
  },
  {
   "cell_type": "code",
   "execution_count": 61,
   "id": "9b89abf4",
   "metadata": {
    "scrolled": true
   },
   "outputs": [
    {
     "name": "stdout",
     "output_type": "stream",
     "text": [
      "Epoch 1/30\n"
     ]
    },
    {
     "name": "stderr",
     "output_type": "stream",
     "text": [
      "2022-05-13 17:08:41.485163: I tensorflow/core/grappler/optimizers/custom_graph_optimizer_registry.cc:113] Plugin optimizer for device_type GPU is enabled.\n"
     ]
    },
    {
     "name": "stdout",
     "output_type": "stream",
     "text": [
      "38/38 [==============================] - ETA: 0s - loss: 1.9125 - accuracy: 0.6199"
     ]
    },
    {
     "name": "stderr",
     "output_type": "stream",
     "text": [
      "2022-05-13 17:08:57.460985: I tensorflow/core/grappler/optimizers/custom_graph_optimizer_registry.cc:113] Plugin optimizer for device_type GPU is enabled.\n"
     ]
    },
    {
     "name": "stdout",
     "output_type": "stream",
     "text": [
      "38/38 [==============================] - 16s 420ms/step - loss: 1.9125 - accuracy: 0.6199 - val_loss: 1.8660 - val_accuracy: 0.6250\n",
      "Epoch 2/30\n",
      "38/38 [==============================] - 16s 411ms/step - loss: 1.7931 - accuracy: 0.7432 - val_loss: 1.7600 - val_accuracy: 0.7500\n",
      "Epoch 3/30\n",
      "38/38 [==============================] - 16s 414ms/step - loss: 1.6588 - accuracy: 0.8652 - val_loss: 1.6480 - val_accuracy: 0.7500\n",
      "Epoch 4/30\n",
      "38/38 [==============================] - 16s 413ms/step - loss: 1.5058 - accuracy: 0.8912 - val_loss: 1.5453 - val_accuracy: 0.7500\n",
      "Epoch 5/30\n",
      "38/38 [==============================] - 16s 414ms/step - loss: 1.3555 - accuracy: 0.8978 - val_loss: 1.4379 - val_accuracy: 0.7500\n",
      "Epoch 6/30\n",
      "38/38 [==============================] - 16s 413ms/step - loss: 1.2306 - accuracy: 0.9049 - val_loss: 1.3618 - val_accuracy: 0.7500\n",
      "Epoch 7/30\n",
      "38/38 [==============================] - 16s 413ms/step - loss: 1.1320 - accuracy: 0.9189 - val_loss: 1.2916 - val_accuracy: 0.7500\n",
      "Epoch 8/30\n",
      "38/38 [==============================] - 16s 418ms/step - loss: 1.0504 - accuracy: 0.9268 - val_loss: 1.2705 - val_accuracy: 0.8125\n",
      "Epoch 9/30\n",
      "38/38 [==============================] - 16s 416ms/step - loss: 0.9842 - accuracy: 0.9355 - val_loss: 1.2135 - val_accuracy: 0.8125\n",
      "Epoch 10/30\n",
      "38/38 [==============================] - 16s 414ms/step - loss: 0.9263 - accuracy: 0.9376 - val_loss: 1.1233 - val_accuracy: 0.8125\n",
      "Epoch 11/30\n",
      "38/38 [==============================] - 16s 413ms/step - loss: 0.8799 - accuracy: 0.9409 - val_loss: 1.2423 - val_accuracy: 0.6875\n",
      "Epoch 12/30\n",
      "38/38 [==============================] - 16s 412ms/step - loss: 0.8353 - accuracy: 0.9450 - val_loss: 1.1005 - val_accuracy: 0.8125\n",
      "Epoch 13/30\n",
      "38/38 [==============================] - 16s 412ms/step - loss: 0.7984 - accuracy: 0.9479 - val_loss: 1.1539 - val_accuracy: 0.6875\n",
      "Epoch 14/30\n",
      "38/38 [==============================] - 16s 412ms/step - loss: 0.7624 - accuracy: 0.9491 - val_loss: 1.1380 - val_accuracy: 0.6875\n",
      "Epoch 15/30\n",
      "38/38 [==============================] - 16s 414ms/step - loss: 0.7289 - accuracy: 0.9541 - val_loss: 1.0400 - val_accuracy: 0.7500\n",
      "Epoch 16/30\n",
      "38/38 [==============================] - 16s 419ms/step - loss: 0.6982 - accuracy: 0.9562 - val_loss: 0.9004 - val_accuracy: 0.8750\n",
      "Epoch 17/30\n",
      "38/38 [==============================] - 16s 434ms/step - loss: 0.6741 - accuracy: 0.9574 - val_loss: 0.8874 - val_accuracy: 0.8750\n",
      "Epoch 18/30\n",
      "38/38 [==============================] - 17s 442ms/step - loss: 0.6435 - accuracy: 0.9582 - val_loss: 1.0239 - val_accuracy: 0.6875\n",
      "Epoch 19/30\n",
      "38/38 [==============================] - 17s 454ms/step - loss: 0.6206 - accuracy: 0.9615 - val_loss: 0.8989 - val_accuracy: 0.8750\n",
      "Epoch 20/30\n",
      "38/38 [==============================] - 18s 464ms/step - loss: 0.6054 - accuracy: 0.9582 - val_loss: 0.8987 - val_accuracy: 0.8125\n",
      "Epoch 21/30\n",
      "38/38 [==============================] - 18s 482ms/step - loss: 0.5838 - accuracy: 0.9620 - val_loss: 0.7534 - val_accuracy: 0.8750\n",
      "Epoch 22/30\n",
      "38/38 [==============================] - 18s 480ms/step - loss: 0.5720 - accuracy: 0.9595 - val_loss: 0.7615 - val_accuracy: 0.8750\n",
      "Epoch 23/30\n",
      "38/38 [==============================] - 18s 481ms/step - loss: 0.5464 - accuracy: 0.9657 - val_loss: 0.7412 - val_accuracy: 0.8750\n",
      "Epoch 24/30\n",
      "38/38 [==============================] - 19s 492ms/step - loss: 0.5313 - accuracy: 0.9657 - val_loss: 0.6906 - val_accuracy: 0.8750\n",
      "Epoch 25/30\n",
      "38/38 [==============================] - 18s 487ms/step - loss: 0.5351 - accuracy: 0.9586 - val_loss: 0.7648 - val_accuracy: 0.8750\n",
      "Epoch 26/30\n",
      "38/38 [==============================] - 18s 481ms/step - loss: 0.5129 - accuracy: 0.9648 - val_loss: 0.7974 - val_accuracy: 0.8750\n",
      "Epoch 27/30\n",
      "38/38 [==============================] - 18s 477ms/step - loss: 0.4953 - accuracy: 0.9665 - val_loss: 0.6834 - val_accuracy: 0.9375\n",
      "Epoch 28/30\n",
      "38/38 [==============================] - 19s 491ms/step - loss: 0.4885 - accuracy: 0.9661 - val_loss: 0.6346 - val_accuracy: 0.8750\n",
      "Epoch 29/30\n",
      "38/38 [==============================] - 18s 485ms/step - loss: 0.4793 - accuracy: 0.9665 - val_loss: 0.9257 - val_accuracy: 0.7500\n",
      "Epoch 30/30\n",
      "38/38 [==============================] - 19s 496ms/step - loss: 0.4655 - accuracy: 0.9682 - val_loss: 0.7344 - val_accuracy: 0.8750\n"
     ]
    }
   ],
   "source": [
    "history = model.fit(X_train,\n",
    "                    y_train,\n",
    "                    batch_size=64,\n",
    "                    epochs=30,\n",
    "                    verbose=1,\n",
    "                    validation_data=(X_val, y_val),\n",
    "                    callbacks=[es, mc])"
   ]
  },
  {
   "cell_type": "markdown",
   "id": "0d5e40be",
   "metadata": {},
   "source": [
    "### Test Accuracy"
   ]
  },
  {
   "cell_type": "code",
   "execution_count": 62,
   "id": "16258457",
   "metadata": {},
   "outputs": [
    {
     "name": "stdout",
     "output_type": "stream",
     "text": [
      "20/20 [==============================] - 2s 79ms/step - loss: 0.6992 - accuracy: 0.8638\n"
     ]
    },
    {
     "data": {
      "text/plain": [
       "[0.6991806626319885, 0.8637820482254028]"
      ]
     },
     "execution_count": 62,
     "metadata": {},
     "output_type": "execute_result"
    }
   ],
   "source": [
    "model.load_weights('../models/checkpoint/tuned.h5')\n",
    "model.evaluate(X_test, y_test)"
   ]
  },
  {
   "cell_type": "code",
   "execution_count": 63,
   "id": "a581003b",
   "metadata": {},
   "outputs": [],
   "source": [
    "model.save('../models/final_model.h5')"
   ]
  }
 ],
 "metadata": {
  "kernelspec": {
   "display_name": "Python 3 (ipykernel)",
   "language": "python",
   "name": "python3"
  },
  "language_info": {
   "codemirror_mode": {
    "name": "ipython",
    "version": 3
   },
   "file_extension": ".py",
   "mimetype": "text/x-python",
   "name": "python",
   "nbconvert_exporter": "python",
   "pygments_lexer": "ipython3",
   "version": "3.9.0"
  }
 },
 "nbformat": 4,
 "nbformat_minor": 5
}
