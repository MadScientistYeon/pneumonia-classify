{
 "cells": [
  {
   "cell_type": "markdown",
   "id": "6f009528",
   "metadata": {},
   "source": [
    "# Image Preprocessing"
   ]
  },
  {
   "cell_type": "markdown",
   "id": "9d58b07f",
   "metadata": {},
   "source": [
    "## Import Packages"
   ]
  },
  {
   "cell_type": "code",
   "execution_count": 1,
   "id": "06837c2c",
   "metadata": {},
   "outputs": [],
   "source": [
    "import pickle\n",
    "from tensorflow.keras.preprocessing.image import ImageDataGenerator"
   ]
  },
  {
   "cell_type": "markdown",
   "id": "9ace7799",
   "metadata": {},
   "source": [
    "## Image Data Generator"
   ]
  },
  {
   "cell_type": "code",
   "execution_count": 2,
   "id": "af5fd4fc",
   "metadata": {},
   "outputs": [
    {
     "name": "stdout",
     "output_type": "stream",
     "text": [
      "Found 2418 images belonging to 2 classes.\n",
      "Found 624 images belonging to 2 classes.\n",
      "Found 16 images belonging to 2 classes.\n"
     ]
    }
   ],
   "source": [
    "train_datagen = ImageDataGenerator(rescale=1/255)\n",
    "test_datagen = ImageDataGenerator(rescale=1/255)\n",
    "val_datagen = ImageDataGenerator(rescale=1/255)\n",
    "\n",
    "train_generator = train_datagen.flow_from_directory('../data/raw/train',\n",
    "                                                        target_size=(150, 150),\n",
    "                                                        batch_size=5216,\n",
    "                                                        class_mode='binary')\n",
    "test_generator = test_datagen.flow_from_directory('../data/raw/test',\n",
    "                                                      target_size=(150, 150),\n",
    "                                                      batch_size=624,\n",
    "                                                      class_mode='binary')\n",
    "val_generator = val_datagen.flow_from_directory('../data/raw/val',\n",
    "                                                    target_size=(150, 150),\n",
    "                                                    batch_size=16,\n",
    "                                                    class_mode='binary')"
   ]
  },
  {
   "cell_type": "code",
   "execution_count": 3,
   "id": "f9d71aa4",
   "metadata": {},
   "outputs": [
    {
     "data": {
      "text/plain": [
       "{'NORMAL': 0, 'PNEUMONIA': 1}"
      ]
     },
     "execution_count": 3,
     "metadata": {},
     "output_type": "execute_result"
    }
   ],
   "source": [
    "train_generator.class_indices"
   ]
  },
  {
   "cell_type": "code",
   "execution_count": 4,
   "id": "1216ddec",
   "metadata": {},
   "outputs": [],
   "source": [
    "# Save train data\n",
    "with open('../data/final/train.pickle', 'wb') as train:\n",
    "    pickle.dump(next(train_generator), train)\n",
    "\n",
    "# Save train data\n",
    "with open('../data/final/test.pickle', 'wb') as test:\n",
    "    pickle.dump(next(test_generator), test)\n",
    "\n",
    "# Save train data\n",
    "with open('../data/final/val.pickle', 'wb') as val:\n",
    "    pickle.dump(next(val_generator), val)"
   ]
  }
 ],
 "metadata": {
  "kernelspec": {
   "display_name": "Python 3 (ipykernel)",
   "language": "python",
   "name": "python3"
  },
  "language_info": {
   "codemirror_mode": {
    "name": "ipython",
    "version": 3
   },
   "file_extension": ".py",
   "mimetype": "text/x-python",
   "name": "python",
   "nbconvert_exporter": "python",
   "pygments_lexer": "ipython3",
   "version": "3.9.0"
  }
 },
 "nbformat": 4,
 "nbformat_minor": 5
}
